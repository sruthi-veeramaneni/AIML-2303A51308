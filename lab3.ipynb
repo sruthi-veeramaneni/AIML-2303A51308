{
  "nbformat": 4,
  "nbformat_minor": 0,
  "metadata": {
    "colab": {
      "provenance": [],
      "authorship_tag": "ABX9TyOWGFGtx++qKCm/i1aSVafw",
      "include_colab_link": true
    },
    "kernelspec": {
      "name": "python3",
      "display_name": "Python 3"
    },
    "language_info": {
      "name": "python"
    }
  },
  "cells": [
    {
      "cell_type": "markdown",
      "metadata": {
        "id": "view-in-github",
        "colab_type": "text"
      },
      "source": [
        "<a href=\"https://colab.research.google.com/github/sruthi-veeramaneni/AIML-2303A51308/blob/main/lab3.ipynb\" target=\"_parent\"><img src=\"https://colab.research.google.com/assets/colab-badge.svg\" alt=\"Open In Colab\"/></a>"
      ]
    },
    {
      "cell_type": "markdown",
      "source": [
        "PART-01:Implement the AI Game Strategy"
      ],
      "metadata": {
        "id": "rIOEToqm-17o"
      }
    },
    {
      "cell_type": "code",
      "source": [
        "from collections import namedtuple,Counter,defaultdict\n",
        "import random\n",
        "import math\n",
        "import functools\n",
        "cache=functools.lru_cache(10**6)"
      ],
      "metadata": {
        "id": "AC78pN9T6me9"
      },
      "execution_count": null,
      "outputs": []
    },
    {
      "cell_type": "code",
      "source": [
        "class Game:\n",
        "  def actions(self, state):\n",
        "     ##Return a collection of the allowable moves from this state.\"\"\"\n",
        "     raise NotImplementedError\n",
        "  def result(self, state, move):\n",
        "     ##Return the state that results from making a move from a state.\"\"\"\n",
        "     raise NotImplementedError\n",
        "  def is_terminal(self, state):\n",
        "     ##Return True if this is a final state for the game.\"\"\"\n",
        "     return not self.actions(state)\n",
        "  def utility(self, state, player):\n",
        "     ##Return the value of this final state to player.\"\"\"\n",
        "     raise NotImplementedError\n"
      ],
      "metadata": {
        "id": "GAYxp_ga72vT"
      },
      "execution_count": null,
      "outputs": []
    },
    {
      "cell_type": "code",
      "source": [
        "def play_game(game, strategies: dict, verbose=False):\n",
        "    ##Play a turn−taking game.'strategies' is a player name: function}\n",
        "    ##dict,where function(state, game) is used to get the player s move.\n",
        "    state = game.initial\n",
        "    while not game.is_terminal(state):\n",
        "        player = state.to_move\n",
        "        move = strategies[player](game, state)\n",
        "        state = game.result(state, move)\n",
        "        if verbose:\n",
        "            print( 'Player', player, 'move:' , move)\n",
        "            print(state)\n",
        "    return state"
      ],
      "metadata": {
        "id": "CHTUkhqc9AYz"
      },
      "execution_count": null,
      "outputs": []
    },
    {
      "cell_type": "markdown",
      "source": [
        "PART-02:Implement the Game Strategy Algorithms.\n"
      ],
      "metadata": {
        "id": "cOPu3vgFAsQf"
      }
    },
    {
      "cell_type": "code",
      "source": [
        "def minimax_search(game, state):\n",
        "   ##Search game tree to determine best move;\n",
        "   ##return (value, move) pair.\"\"\"\n",
        "     player = state.to_move\n",
        "     def max_value(state):\n",
        "         if game.is_terminal(state):\n",
        "             return game.utility(state, player), None\n",
        "         v, move = -infinity, None\n",
        "         for a in game.actions(state):\n",
        "             v2,_= min_value(game.result(state, a))\n",
        "             if v2 > v:\n",
        "                 v, move = v2, a\n",
        "         return v, move\n",
        "     def min_value(state):\n",
        "         if game.is_terminal(state):\n",
        "          return game.utility(state, player), None\n",
        "         v, move = +infinity, None\n",
        "         for a in game.actions(state):\n",
        "             v2,_= max_value(game.result(state, a))\n",
        "             if v2 < v:\n",
        "                 v, move = v2, a\n",
        "         return v, move\n",
        "         return max_value(state)\n",
        "         infinity = math.inf\n"
      ],
      "metadata": {
        "id": "4iKTIpJqAx7O"
      },
      "execution_count": null,
      "outputs": []
    },
    {
      "cell_type": "markdown",
      "source": [],
      "metadata": {
        "id": "4FfoTlDT7yT7"
      }
    },
    {
      "cell_type": "code",
      "source": [
        "def alphabeta_search(game, state):\n",
        "     ##Search game to determine best action; use alpha−beta pruning.\n",
        "     ##Search all the way to the leaves.\n",
        "     player = state.to_move\n",
        "def max_value(state, alpha, beta):\n",
        "    if game.is_terminal(state):\n",
        "        return game.utility(state, player), None\n",
        "    v, move = -infinity, None\n",
        "    for a in game.actions(state):\n",
        "        v2,_= min_value(game.result(state, a), alpha, beta)\n",
        "        if v2 > v:\n",
        "            v, move = v2, a\n",
        "            alpha = max(alpha, v)\n",
        "            if v >= beta:\n",
        "               return v, move\n",
        "               return v, move\n",
        "def min_value(state, alpha, beta):\n",
        "    if game.is_terminal(state):\n",
        "        return game.utility(state, player), None\n",
        "    v, move = +infinity, None\n",
        "    for a in game.actions(state):\n",
        "       v2,_= max_value(game.result(state, a), alpha, beta)\n",
        "    if v2 < v:\n",
        "      v, move = v2, a\n",
        "      beta = min(beta, v)\n",
        "    if v <= alpha:\n",
        "      return v, move\n",
        "      return v, move\n",
        "    return max_value(state, -infinity, +infinity)"
      ],
      "metadata": {
        "id": "PtpNVgT9HSTl"
      },
      "execution_count": null,
      "outputs": []
    },
    {
      "cell_type": "markdown",
      "source": [
        "PART-03:Implement the Game Strategy using TicTocToe.\n"
      ],
      "metadata": {
        "id": "u_NANQuDKibx"
      }
    },
    {
      "cell_type": "code",
      "source": [
        "def random_player(game, state): return random.choice(list(game.actions(state)))\n",
        "def player(search_algorithm):\n",
        " \"\"\"A game player who uses the specified search algorithm\"\"\"\n",
        " return lambda game, state: search_algorithm(game, state)[1]"
      ],
      "metadata": {
        "id": "YQYX1o5aKs2I"
      },
      "execution_count": null,
      "outputs": []
    },
    {
      "cell_type": "markdown",
      "source": [],
      "metadata": {
        "id": "0786q3ESLx5J"
      }
    },
    {
      "cell_type": "markdown",
      "source": [
        "part-04:Evaluate the AI Game Strategy using TicTocToe."
      ],
      "metadata": {
        "id": "BoZepxqsNOkM"
      }
    },
    {
      "cell_type": "markdown",
      "source": [
        "1.Implement Game Strategy using play_game(TicTocToe(),dict(X=random_player, O=player(alphabeta_search)),verbose=True).utility\n",
        "\n",
        "2.Implement Game Strategy using play_game(TicTocToe(),dict(X=player(alphabeta_search), O=player(minimax_search)),verbose=True).utility_search)),verbose=True).utility\n",
        "\n"
      ],
      "metadata": {
        "id": "0IriEatz3Ag0"
      }
    },
    {
      "cell_type": "code",
      "source": [],
      "metadata": {
        "id": "wgNBsfOmL2lX"
      },
      "execution_count": null,
      "outputs": []
    }
  ]
}